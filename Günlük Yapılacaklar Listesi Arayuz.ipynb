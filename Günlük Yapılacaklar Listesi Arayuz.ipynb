{
 "cells": [
  {
   "cell_type": "code",
   "execution_count": 92,
   "id": "a5b69324",
   "metadata": {},
   "outputs": [
    {
     "name": "stderr",
     "output_type": "stream",
     "text": [
      "ERROR: Could not find a version that satisfies the requirement python-tk (from versions: none)\n",
      "ERROR: No matching distribution found for python-tk\n"
     ]
    }
   ],
   "source": [
    "!pip install python-tk\n",
    "import tkinter as tk\n",
    "from tkinter import ttk"
   ]
  },
  {
   "cell_type": "code",
   "execution_count": 93,
   "id": "a8cf0778",
   "metadata": {},
   "outputs": [],
   "source": [
    "# Günlük Yapılacaklar Listesi\n",
    "tasks = []\n",
    "\n",
    "# Ana Pencere\n",
    "root = tk.Tk()\n",
    "root.title(\"Günlük Yapılacaklar Listesi\")\n",
    "root.geometry(\"1000x6000\")\n",
    "root[\"bg\"] = \"#ff69b4\""
   ]
  },
  {
   "cell_type": "code",
   "execution_count": 94,
   "id": "0a54ede6",
   "metadata": {},
   "outputs": [],
   "source": [
    "# Görev Ekleme Fonksiyonu\n",
    "def add_task():\n",
    "    task = entry.get()\n",
    "    tasks.append(task)\n",
    "    listbox.insert(\"end\", task)\n",
    "    entry.delete(0, \"end\")"
   ]
  },
  {
   "cell_type": "code",
   "execution_count": 95,
   "id": "379e35e3",
   "metadata": {},
   "outputs": [],
   "source": [
    "# Görev Silme Fonksiyonu\n",
    "def delete_task():\n",
    "    index = listbox.curselection()\n",
    "    if not index:\n",
    "        return\n",
    "    listbox.delete(index) "
   ]
  },
  {
   "cell_type": "code",
   "execution_count": 96,
   "id": "ea95532c",
   "metadata": {},
   "outputs": [],
   "source": [
    "# Tik Atma Fonksiyonu\n",
    "def strike_task():\n",
    "    index = listbox.curselection()\n",
    "    if not index:\n",
    "        return\n",
    "    task = listbox.get(index)\n",
    "    task = \"^\" + task + \"^\"\n",
    "    listbox.delete(index)\n",
    "    listbox.insert(index, task)"
   ]
  },
  {
   "cell_type": "code",
   "execution_count": 97,
   "id": "1037c973",
   "metadata": {},
   "outputs": [],
   "source": [
    "# Entry Widget\n",
    "entry = tk.Entry(root, font=(\"Helvetica\", 16))\n",
    "entry.pack(pady=10)  # Ekleme Düğmesi\n",
    "add_button = tk.Button(root, text=\"Ekle\", command=add_task)\n",
    "add_button.pack(pady=10)"
   ]
  },
  {
   "cell_type": "code",
   "execution_count": 98,
   "id": "25e1911e",
   "metadata": {},
   "outputs": [],
   "source": [
    "# Listbox Widget\n",
    "listbox = tk.Listbox(root, font=(\"Helvetica\", 14))\n",
    "listbox.pack(pady=10)   # Silme Düğmesi\n",
    "delete_button = tk.Button(root, text=\"Sil\", command=delete_task)\n",
    "delete_button.pack(pady=10)  "
   ]
  },
  {
   "cell_type": "code",
   "execution_count": 99,
   "id": "5dbd805c",
   "metadata": {},
   "outputs": [],
   "source": [
    "# Tik Atma Düğmesi\n",
    "strike_button = tk.Button(root, text=\"Tik At\", command=strike_task)\n",
    "strike_button.pack(pady=10)\n",
    "\n",
    "root.mainloop()"
   ]
  },
  {
   "cell_type": "code",
   "execution_count": 100,
   "id": "f99bbc32",
   "metadata": {},
   "outputs": [
    {
     "ename": "NameError",
     "evalue": "name 'todo_app' is not defined",
     "output_type": "error",
     "traceback": [
      "\u001b[1;31m---------------------------------------------------------------------------\u001b[0m",
      "\u001b[1;31mNameError\u001b[0m                                 Traceback (most recent call last)",
      "Input \u001b[1;32mIn [100]\u001b[0m, in \u001b[0;36m<cell line: 1>\u001b[1;34m()\u001b[0m\n\u001b[1;32m----> 1\u001b[0m \u001b[43mtodo_app\u001b[49m\u001b[38;5;241m.\u001b[39mpy\n",
      "\u001b[1;31mNameError\u001b[0m: name 'todo_app' is not defined"
     ]
    }
   ],
   "source": [
    "todo_app.py"
   ]
  },
  {
   "cell_type": "code",
   "execution_count": null,
   "id": "b727cac2",
   "metadata": {},
   "outputs": [],
   "source": []
  },
  {
   "cell_type": "code",
   "execution_count": null,
   "id": "3bb74d70",
   "metadata": {},
   "outputs": [],
   "source": []
  },
  {
   "cell_type": "code",
   "execution_count": null,
   "id": "acab62ef",
   "metadata": {},
   "outputs": [],
   "source": []
  },
  {
   "cell_type": "code",
   "execution_count": null,
   "id": "81c2bb78",
   "metadata": {},
   "outputs": [],
   "source": []
  }
 ],
 "metadata": {
  "kernelspec": {
   "display_name": "Python 3 (ipykernel)",
   "language": "python",
   "name": "python3"
  },
  "language_info": {
   "codemirror_mode": {
    "name": "ipython",
    "version": 3
   },
   "file_extension": ".py",
   "mimetype": "text/x-python",
   "name": "python",
   "nbconvert_exporter": "python",
   "pygments_lexer": "ipython3",
   "version": "3.9.12"
  }
 },
 "nbformat": 4,
 "nbformat_minor": 5
}
